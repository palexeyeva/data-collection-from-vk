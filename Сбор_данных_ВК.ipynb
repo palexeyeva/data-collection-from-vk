{
  "nbformat": 4,
  "nbformat_minor": 0,
  "metadata": {
    "colab": {
      "provenance": []
    },
    "kernelspec": {
      "name": "python3",
      "display_name": "Python 3"
    },
    "language_info": {
      "name": "python"
    }
  },
  "cells": [
    {
      "cell_type": "markdown",
      "source": [
        "#Подготовка среды"
      ],
      "metadata": {
        "id": "2FgreZptjAxA"
      }
    },
    {
      "cell_type": "code",
      "source": [
        "from google.colab import drive\n",
        "drive.mount('/content/drive')"
      ],
      "metadata": {
        "colab": {
          "base_uri": "https://localhost:8080/"
        },
        "id": "RK2UWwweucXE",
        "outputId": "1bb2f241-7d69-4f88-d6b3-8fffe71ca1d0"
      },
      "execution_count": null,
      "outputs": [
        {
          "output_type": "stream",
          "name": "stdout",
          "text": [
            "Mounted at /content/drive\n"
          ]
        }
      ]
    },
    {
      "cell_type": "code",
      "source": [
        "!pip install vk_api"
      ],
      "metadata": {
        "id": "Fy3jiLVAKd9t"
      },
      "execution_count": null,
      "outputs": []
    },
    {
      "cell_type": "code",
      "source": [
        "import json\n",
        "import vk_api\n",
        "import time\n",
        "import numpy as np\n",
        "import pandas as pd\n",
        "from collections import Counter\n",
        "import statistics as st"
      ],
      "metadata": {
        "id": "d4bH4yuDKM2h"
      },
      "execution_count": null,
      "outputs": []
    },
    {
      "cell_type": "code",
      "source": [
        "def captcha_handler(captcha):\n",
        "\n",
        "    key = input(\"Enter captcha code {0}: \".format(captcha.get_url())).strip()\n",
        "\n",
        "    # Повтор запроса с капчей\n",
        "    return captcha.try_again(key)\n",
        "\n",
        "#чтение файла с логином и паролем\n",
        "f = open(\"login.txt\", \"r\")\n",
        "\n",
        "#открытие сесси вк\n",
        "vk_session = vk_api.VkApi(f.readline(), f.readline(), captcha_handler=captcha_handler)\n",
        "vk_session.auth(token_only=True)\n",
        "vk = vk_session.get_api()"
      ],
      "metadata": {
        "id": "95IQkRMvD7QN"
      },
      "execution_count": null,
      "outputs": []
    },
    {
      "cell_type": "markdown",
      "source": [
        "# Обработка данных"
      ],
      "metadata": {
        "id": "Hvs5BPdZkmq4"
      }
    },
    {
      "cell_type": "code",
      "source": [
        "firstCom = 'name_first' # название первого паблика\n",
        "secondCom = 'name_second' # название второго паблика\n",
        "count = '1000' # объем выборки для каждого паблика"
      ],
      "metadata": {
        "id": "nkvUZ4Yut1k5"
      },
      "execution_count": null,
      "outputs": []
    },
    {
      "cell_type": "code",
      "execution_count": null,
      "metadata": {
        "id": "XRPBMKScts8t"
      },
      "outputs": [],
      "source": [
        "#сбор id подписчиков и их друзей\n",
        "def collectingData(firstCom, secondCom, count, vk):\n",
        "\n",
        "    #сбор данных об участниках групп\n",
        "    getFirstCom = vk.groups.getMembers(group_id = firstCom, count = count, offset = '2000')\n",
        "    getSecondCom = vk.groups.getMembers(group_id = secondCom, count = count, offset = '100')\n",
        "\n",
        "    #поиск повторящихся пользователей пабликов\n",
        "    getCommon, getFirstCom, getSecondCom = searchCommon(getFirstCom[\"items\"], getSecondCom[\"items\"])\n",
        "        \n",
        "    dataFriends = {\n",
        "        firstCom : {},\n",
        "        secondCom : {}, \n",
        "        \"commonCom\" : {}\n",
        "    }\n",
        "\n",
        "    countFirst = 0\n",
        "    countSecond = 0\n",
        "    countCommon = 0\n",
        "   \n",
        "    time.sleep(3)\n",
        "\n",
        "    # данные о друзьях 1 паблика\n",
        "    for i in range(len(getFirstCom)):           \n",
        "        try:\n",
        "            getFriends = vk.friends.get(user_id = str(getFirstCom[i]))\n",
        "            g = {str(getFirstCom[i]): getFriends['items']}\n",
        "            dataFriends[firstCom].update(g)\n",
        "        except:\n",
        "            countFirst += 1\n",
        "    \n",
        "    time.sleep(3)\n",
        "\n",
        "    # данные о друзьях 2 паблика\n",
        "    for i in range(len(getSecondCom)):           \n",
        "        try:\n",
        "            getFriends = vk.friends.get(user_id = str(getSecondCom[i]))\n",
        "            g = {str(getSecondCom[i]): getFriends['items']}\n",
        "            dataFriends[secondCom].update(g)\n",
        "        except:\n",
        "            countSecond += 1\n",
        "   \n",
        "    time.sleep(3)\n",
        "\n",
        "    # данные о друзьях общего паблика\n",
        "    for i in range(len(getCommon)):           \n",
        "        try:\n",
        "            getFriends = vk.friends.get(user_id = str(getCommon[i]))\n",
        "            g = {str(getCommon[i]): getFriends['items']}\n",
        "            dataFriends[\"commonCom\"].update(g)\n",
        "        except:\n",
        "            countCommon += 1\n",
        "\n",
        "#сохранение файла на диске\n",
        "    with open('drive/MyDrive/output/data_file.json', 'w') as outfile:\n",
        "        json.dump(dataFriends, outfile)\n",
        "    \n",
        "    return countFirst, countSecond, countCommon"
      ]
    },
    {
      "cell_type": "code",
      "source": [
        "#поиск общих подписчиков между первым и вторым пабликом\n",
        "def searchCommon(a, b):\n",
        "  res1 = []\n",
        "  res2 = []\n",
        "  common = []\n",
        "  for i in range(len(a)):\n",
        "      try: \n",
        "          b.index(a[i])\n",
        "          common.append(a[i])\n",
        "      except:\n",
        "          res1.append(a[i])  \n",
        "\n",
        "  for i in range(len(b)):\n",
        "      try: \n",
        "          a.index(b[i])\n",
        "      except:\n",
        "          res2.append(b[i])  \n",
        "   \n",
        "  return common, res1, res2"
      ],
      "metadata": {
        "id": "epdHVcBcpbfb"
      },
      "execution_count": null,
      "outputs": []
    },
    {
      "cell_type": "code",
      "source": [
        "#запуск сбора данных\n",
        "countFirst, countSecond, countCommon = collectingData(firstCom, secondCom, count, vk)\n",
        "print(countFirst, countSecond, countCommon)"
      ],
      "metadata": {
        "id": "5q1XyL-jK5-W"
      },
      "execution_count": null,
      "outputs": []
    },
    {
      "cell_type": "code",
      "source": [
        "# Матрица смежности\n",
        "def processingData(firstCom, secondCom):\n",
        "\n",
        "    #чтение файла json\n",
        "    with open(\"drive/MyDrive/output/data_file.json\", \"r\") as infile: \n",
        "        data = infile.read()\n",
        "\n",
        "    dataFriends = json.loads(data)\n",
        "\n",
        "    #перенос общих агентов\n",
        "    dl = []\n",
        "    for i in dataFriends[firstCom]:\n",
        "        if vk.groups.isMember(group_id = secondCom, user_id  = i ):\n",
        "            dataFriends[\"commonCom\"][i] = dataFriends[firstCom][i]\n",
        "            dl.append(i)\n",
        "    for i in dl:\n",
        "        dataFriends[firstCom].pop(i)\n",
        "    dl = []\n",
        "    for i in dataFriends[secondCom]:\n",
        "        if vk.groups.isMember(group_id = firstCom, user_id  = i ):\n",
        "            dataFriends[\"commonCom\"][i] = dataFriends[secondCom][i]\n",
        "            dl.append(i)\n",
        "    for i in dl:\n",
        "        dataFriends[secondCom].pop(i)\n",
        "\n",
        "    #определение длины каждого словаря\n",
        "    lenFirst = len(dataFriends[firstCom])\n",
        "    lenSecond = len(dataFriends[secondCom])\n",
        "    lenCommon = len(dataFriends[\"commonCom\"])\n",
        "    lenTotal = lenFirst + lenSecond + lenCommon + 2\n",
        "    rv = {}#rv - вектор смежности\n",
        "\n",
        "    #ids\n",
        "    idsFirst = [*dataFriends[firstCom]]\n",
        "    idsSecond = [*dataFriends[secondCom]]\n",
        "    idsCommon = [*dataFriends[\"commonCom\"]]\n",
        "    idsTotal = set([int(i) for i in idsFirst+idsSecond+idsCommon])\n",
        "\n",
        "    #соединение с сообществом\n",
        "    rv[firstCom] = [int(i) for i in idsFirst+idsCommon]\n",
        "    rv[secondCom] = [int(i) for i in idsSecond+idsCommon]\n",
        "    \n",
        "    #соединение друзей\n",
        "    ttl = dataFriends[firstCom]|dataFriends[secondCom]|dataFriends[\"commonCom\"]\n",
        "    for i in ttl:\n",
        "        rv[int(i)] = list(set(ttl[i]) & idsTotal)\n",
        "\n",
        "    #преобразование в матрицу\n",
        "    ks = list(rv.keys())\n",
        "    R = {}\n",
        "    for id in ks:\n",
        "        R[str(id)] = [str(id)] + [int(ks[j] in rv[id]) for j in range(len(ks))]\n",
        "    R = [[\"X\"]+list(R.keys())]+list(R.values())\n",
        "\n",
        "    return R ,lenTotal, lenFirst, lenCommon"
      ],
      "metadata": {
        "id": "pXaNQnWxkg6M"
      },
      "execution_count": null,
      "outputs": []
    },
    {
      "cell_type": "code",
      "source": [
        "#запуск функции обработки и формирования матрицы смежности\n",
        "R, lenTotal, lenFirst, lenCommon = processingData(firstCom, secondCom)\n",
        "\n",
        "df = pd.DataFrame(R)\n",
        "df.to_excel(r\"drive/MyDrive/output/matrix2.xlsx\", index=False)"
      ],
      "metadata": {
        "id": "hxI07zIKl9-t"
      },
      "execution_count": null,
      "outputs": []
    },
    {
      "cell_type": "markdown",
      "source": [
        "#Словарь со списками, добавление параметров"
      ],
      "metadata": {
        "id": "5C7MszD0N10g"
      }
    },
    {
      "cell_type": "code",
      "source": [
        "with open(\"drive/MyDrive/output/data_file.json\", \"r\") as infile:\n",
        "        data = infile.read()\n",
        "\n",
        "dataFriends = json.loads(data)"
      ],
      "metadata": {
        "id": "dFBRTVjyN417"
      },
      "execution_count": null,
      "outputs": []
    },
    {
      "cell_type": "code",
      "source": [
        "dataAll = {}\n",
        "f = 0\n",
        "for bigPub in dataFriends:\n",
        "    dataAll[bigPub] = {}\n",
        "    \n",
        "    for item in dataFriends[bigPub]:\n",
        "        # time.sleep(3)\n",
        "\n",
        "        try:\n",
        "            getUser_sub = vk.users.getSubscriptions(user_id = item, extend=0)\n",
        "        except:\n",
        "            continue\n",
        "\n",
        "        dataAll[bigPub][item] = {}\n",
        "        dataAll[bigPub][item][\"publics\"] = {}\n",
        "        getUser_info = vk.users.get(user_id = item, fields=\"bdate, education, personal, city\")\n",
        "        getUser_friend = vk.friends.get(user_id = item)\n",
        "\n",
        "        dataAll[bigPub][item][\"info\"] = getUser_info[0]\n",
        "        dataAll[bigPub][item][\"info\"][\"count_friends\"] = getUser_friend[\"count\"]\n",
        "\n",
        "        grp_ids = \"\"\n",
        "\n",
        "        for i in range(min(20,len(getUser_sub[\"groups\"][\"items\"]))):   \n",
        "          grp_ids += str(getUser_sub[\"groups\"][\"items\"][i]) + \",\"\n",
        "\n",
        "        grp_ids = grp_ids[:-1]\n",
        "\n",
        "        try:\n",
        "          getCom = vk.groups.getById(group_ids = grp_ids, fields='activity')\n",
        "          for i in range(len(getCom)):\n",
        "            dataAll[bigPub][item][\"publics\"][getUser_sub[\"groups\"][\"items\"][i]] = getCom[i][\"activity\"]\n",
        "        except:\n",
        "          getCom = \"\"\n",
        "          for i in range(len(getCom)):\n",
        "              dataAll[bigPub][item][\"publics\"][getUser_sub[\"groups\"][\"items\"][i]] = \"Сайты\"\n",
        "\n",
        "        dataAll[bigPub][item][\"info\"][\"count_publics\"] = getUser_sub[\"groups\"][\"count\"]\n",
        "\n",
        "        dataAll[bigPub][item][\"friends\"] = dataFriends[bigPub][item]"
      ],
      "metadata": {
        "id": "Fl_y1S8RbLJP"
      },
      "execution_count": null,
      "outputs": []
    },
    {
      "cell_type": "code",
      "source": [
        "with open(r\"drive/MyDrive/output/data_all.json\", 'w') as outfile:\n",
        "    json.dump(dataAll, outfile, ensure_ascii=False)"
      ],
      "metadata": {
        "id": "HC3LhrDnSkuo"
      },
      "execution_count": null,
      "outputs": []
    },
    {
      "cell_type": "markdown",
      "source": [
        "##Определение типов агентов"
      ],
      "metadata": {
        "id": "9s-1TsGeNDNk"
      }
    },
    {
      "cell_type": "code",
      "source": [
        "import datetime\n",
        "from datetime import date"
      ],
      "metadata": {
        "id": "7WjfnApOB6s2"
      },
      "execution_count": null,
      "outputs": []
    },
    {
      "cell_type": "code",
      "source": [
        "with open(\"drive/MyDrive/output/data_all.json\", \"r\") as infile:\n",
        "        data = infile.read()\n",
        "\n",
        "dataAll = json.loads(data)"
      ],
      "metadata": {
        "id": "pr888_nsdQwT"
      },
      "execution_count": null,
      "outputs": []
    },
    {
      "cell_type": "code",
      "source": [
        "#квалиметрическая модель\n",
        "\n",
        "def qualimetric_indicator(age, langs, city, edu, pub):\n",
        "  \n",
        "  qi= 0\n",
        "\n",
        "  if age < 18: \n",
        "    qi += 0.05\n",
        "  elif age >= 18 and age < 25:\n",
        "    qi += 0.1\n",
        "  elif age >= 25 and age < 35:\n",
        "    qi += 0.15\n",
        "  elif age >= 35 and age < 50:\n",
        "    qi += 0.2\n",
        "  else:\n",
        "    qi += 0.25\n",
        "\n",
        "  if langs < 2:\n",
        "    qi +=0.05\n",
        "  elif langs == 2:\n",
        "    qi += 0.1\n",
        "  elif langs == 3:\n",
        "    qi += 0.15\n",
        "  else:\n",
        "    qi += 0.2\n",
        "\n",
        "  if city == 4:\n",
        "    qi +=0.4\n",
        "  elif city == 3:\n",
        "    qi +=0.3\n",
        "  elif city == 2:\n",
        "    qi +=0.2\n",
        "  else:\n",
        "    qi +=0.1\n",
        "\n",
        "  if edu == 3:\n",
        "    qi +=0.45\n",
        "  elif edu == 2:\n",
        "    qi +=0.3\n",
        "  else:\n",
        "    qi +=0.15\n",
        "\n",
        "  if pub < 20:\n",
        "    qi +=0.65\n",
        "  elif pub >=20 and pub < 40:\n",
        "    qi +=1.3\n",
        "  elif pub >=40 and pub < 65:\n",
        "    qi +=1.95\n",
        "  else:\n",
        "    qi +=2.6\n",
        "  \n",
        "  \n",
        "  return qi/3.9"
      ],
      "metadata": {
        "id": "1kp0J94Ganrt"
      },
      "execution_count": null,
      "outputs": []
    },
    {
      "cell_type": "code",
      "source": [
        "def pre_qualimetric(user_info, getCityBig, getUni_list, getType):\n",
        " \n",
        "  qi = 0\n",
        "  today = date.today()\n",
        "\n",
        "  if \"bdate\" in user_info[\"info\"]:\n",
        "    d = user_info[\"info\"][\"bdate\"].split(\".\")\n",
        "    if len(d) == 3:\n",
        "      age = today.year - int(d[2]) - ((today.month, today.day) < (int(d[1]), int(d[0])))\n",
        "    else:\n",
        "      age = 18\n",
        "  else:\n",
        "    age = 18\n",
        "\n",
        "  if \"langs\" in user_info[\"info\"]:\n",
        "    langs = len(user_info[\"info\"][\"langs\"])\n",
        "  else: \n",
        "    langs = 0\n",
        "\n",
        "  if \"city\" in user_info[\"info\"]:\n",
        "    if user_info[\"info\"][\"city\"][\"id\"] == 1 or user_info[\"info\"][\"city\"][\"id\"] == 2:\n",
        "      city = 4\n",
        "    elif user_info[\"info\"][\"city\"][\"id\"] in getCityBig[\"items\"][0].values():\n",
        "      city = 3\n",
        "    else: \n",
        "      city = 2\n",
        "  else:\n",
        "    city = 1\n",
        "    \n",
        "  if \"university\" in user_info[\"info\"]:\n",
        "    if user_info[\"info\"][\"university\"] in getUni_list:\n",
        "      edu = 3\n",
        "    else:\n",
        "      edu = 2\n",
        "  else:\n",
        "    edu = 1\n",
        "\n",
        "  pub = [0,0,0]\n",
        "  cnt = [0,0,0]\n",
        "\n",
        "  for i in user_info['publics']:\n",
        "\n",
        "      try:\n",
        "          cnt[int(getType[user_info['publics'][i]])]+=1\n",
        "      except KeyError:\n",
        "          cnt[1]+=1\n",
        "\n",
        "  for i in range(3):\n",
        "    try:\n",
        "      pub[i] = cnt[i]/sum(cnt)*100 \n",
        "    except ZeroDivisionError:\n",
        "      pub[i] = 0\n",
        "\n",
        "  qi = qualimetric_indicator(age, langs, city, edu, pub[2])\n",
        "\n",
        "  if qi < 0.8:\n",
        "    return \"эмоциональный\"\n",
        "  else:\n",
        "    return \"аналитик\""
      ],
      "metadata": {
        "id": "b_GVhUir-pEj"
      },
      "execution_count": null,
      "outputs": []
    },
    {
      "cell_type": "code",
      "source": [
        "getCityBig = vk.database.getCities(country_id=\"1\")\n",
        "\n",
        "getUni = []\n",
        "getUni1 = vk.database.getUniversities(city_id = \"1\")\n",
        "getUni2 = vk.database.getUniversities(city_id = \"2\")\n",
        "\n",
        "getUni.extend(getUni1[\"items\"])\n",
        "getUni.extend(getUni2[\"items\"])\n",
        "\n",
        "getUni_list = []\n",
        "\n",
        "for i in range(len(getUni)):\n",
        "\n",
        "  getUni_list.append(getUni[i][\"id\"])\n",
        "\n",
        "getUni_list = set(getUni_list)\n",
        "\n",
        "#Файл с таблицей типов пабликов\n",
        "groups_types = pd.read_excel('drive/MyDrive/input/groups_types.xlsx')\n",
        "\n",
        "getType = {}\n",
        "for i in range(len(groups_types[\"Type\"])):\n",
        "    getType[groups_types[\"Type\"][i]] = groups_types[\"Score\"][i]"
      ],
      "metadata": {
        "id": "F0ayU-BG2-1g"
      },
      "execution_count": null,
      "outputs": []
    },
    {
      "cell_type": "code",
      "source": [
        "for pubItem in dataAll:\n",
        "  for item in dataAll[pubItem]:\n",
        "\n",
        "    dataAll[pubItem][item][\"param\"] = {}\n",
        "\n",
        "    try:\n",
        "      dataAll[pubItem][item][\"param\"][\"Th\"] = 100/(0.6*dataAll[pubItem][item][\"info\"][\"count_friends\"] \\\n",
        "                                                 + 0.4*dataAll[pubItem][item][\"info\"][\"count_publics\"])\n",
        "    except:\n",
        "      dataAll[pubItem][item][\"param\"][\"Th\"] = 0\n",
        "    \n",
        "    dataAll[pubItem][item][\"param\"][\"type\"] = pre_qualimetric(dataAll[pubItem][item], getCityBig, getUni_list, getType)"
      ],
      "metadata": {
        "id": "XqA1waN-69xm"
      },
      "execution_count": null,
      "outputs": []
    },
    {
      "cell_type": "code",
      "source": [
        "#Итоговый файл с типами агентов для загрузки в программу модели социальной сети\n",
        "\n",
        "with open('drive/MyDrive/output/data_with_distribution.json', 'w') as outfile:\n",
        "    json.dump(dataAll, outfile, ensure_ascii=False)"
      ],
      "metadata": {
        "id": "zXIwVHVmhbeN"
      },
      "execution_count": null,
      "outputs": []
    },
    {
      "cell_type": "markdown",
      "source": [
        "# Сбор статистики случайных групп\n",
        "Сбор количества аналитиков и эмоциональных агентов в выбранных пабликах ВКонтакте"
      ],
      "metadata": {
        "id": "geXCTyDrrBKK"
      }
    },
    {
      "cell_type": "code",
      "source": [
        "group_name = \"group_name\" #название группы для сбора статистики\n",
        "count = 200 #объем выборки"
      ],
      "metadata": {
        "id": "rhNdpqaEV9ZB"
      },
      "execution_count": null,
      "outputs": []
    },
    {
      "cell_type": "code",
      "source": [
        "getFirstCom = vk.groups.getById(group_id = group_name, fields='activity')\n",
        "getFirstCom[0][\"activity\"]"
      ],
      "metadata": {
        "id": "sZov-6Zbq6m0"
      },
      "execution_count": null,
      "outputs": []
    },
    {
      "cell_type": "code",
      "source": [
        "def collectingData(community, count):\n",
        "  getFirstCom = vk.groups.getMembers(group_id = community, count = count, offset = '20000')\n",
        "\n",
        "  dataFriends = {}\n",
        "  countFirst = 0\n",
        "\n",
        "  for i in range(len(getFirstCom[\"items\"])):           \n",
        "    try:\n",
        "        getFriends = vk.friends.get(user_id = str(getFirstCom[\"items\"][i]))\n",
        "        g = {str(getFirstCom[\"items\"][i]): getFriends['items']}\n",
        "        dataFriends.update(g)\n",
        "    except:\n",
        "        countFirst += 1\n",
        "\n",
        "  with open('drive/MyDrive/output/data_file.json', 'w') as outfile:\n",
        "        json.dump(dataFriends, outfile)\n",
        "\n",
        "collectingData(group_name, count)"
      ],
      "metadata": {
        "id": "c4jpg2K9r8rM"
      },
      "execution_count": null,
      "outputs": []
    },
    {
      "cell_type": "code",
      "source": [
        "getCityBig = vk.database.getCities(country_id=\"1\")\n",
        "\n",
        "getUni = []\n",
        "getUni1 = vk.database.getUniversities(city_id = \"1\")\n",
        "getUni2 = vk.database.getUniversities(city_id = \"2\")\n",
        "\n",
        "getUni.extend(getUni1[\"items\"])\n",
        "getUni.extend(getUni2[\"items\"])\n",
        "\n",
        "getUni_list = []\n",
        "\n",
        "for i in range(len(getUni)):\n",
        "\n",
        "  getUni_list.append(getUni[i][\"id\"])\n",
        "\n",
        "getUni_list = set(getUni_list)\n",
        "\n",
        "#Файл с таблицей типов пабликов\n",
        "groups_types = pd.read_excel('drive/MyDrive/input/groups_types.xlsx')\n",
        "\n",
        "getType = {}\n",
        "for i in range(len(groups_types[\"Type\"])):\n",
        "    getType[groups_types[\"Type\"][i]] = groups_types[\"Score\"][i]"
      ],
      "metadata": {
        "id": "sHDWkVdjvmN_"
      },
      "execution_count": null,
      "outputs": []
    },
    {
      "cell_type": "code",
      "source": [
        "with open(\"drive/MyDrive/output/data_file.json\", \"r\") as infile:\n",
        "        data = infile.read()\n",
        "\n",
        "dataFriends = json.loads(data)"
      ],
      "metadata": {
        "id": "DtcNEs8Tv5AJ"
      },
      "execution_count": null,
      "outputs": []
    },
    {
      "cell_type": "code",
      "source": [
        "#количество выгруженных пользователей\n",
        "len(dataFriends)"
      ],
      "metadata": {
        "colab": {
          "base_uri": "https://localhost:8080/"
        },
        "id": "OjTO4L68r_BM",
        "outputId": "4e0dea55-72d1-4661-fcec-979aba4c9a80"
      },
      "execution_count": null,
      "outputs": [
        {
          "output_type": "execute_result",
          "data": {
            "text/plain": [
              "128"
            ]
          },
          "metadata": {},
          "execution_count": 49
        }
      ]
    },
    {
      "cell_type": "code",
      "source": [
        "dataAll = {}\n",
        "f = 0\n",
        "\n",
        "dataAll = {}\n",
        "\n",
        "for item in dataFriends:\n",
        "  \n",
        "    try:\n",
        "        getUser_sub = vk.users.getSubscriptions(user_id = item, extend=0)\n",
        "    except:\n",
        "        continue\n",
        "\n",
        "    dataAll[item] = {}\n",
        "    dataAll[item][\"publics\"] = {}\n",
        "\n",
        "    getUser_info = vk.users.get(user_id = item, fields=\"bdate, education, personal, city\")\n",
        "    getUser_friend = vk.friends.get(user_id = item)\n",
        "\n",
        "    dataAll[item][\"info\"] = getUser_info[0]\n",
        "    dataAll[item][\"info\"][\"count_friends\"] = getUser_friend[\"count\"]\n",
        "\n",
        "    grp_ids = \"\"\n",
        "\n",
        "    for i in range(min(20,len(getUser_sub[\"groups\"][\"items\"]))):   \n",
        "      grp_ids += str(getUser_sub[\"groups\"][\"items\"][i]) + \",\"\n",
        "\n",
        "    grp_ids = grp_ids[:-1]\n",
        "\n",
        "    try:\n",
        "      getCom = vk.groups.getById(group_ids = grp_ids, fields='activity')\n",
        "      for i in range(len(getCom)):\n",
        "        dataAll[item][\"publics\"][getUser_sub[\"groups\"][\"items\"][i]] = getCom[i][\"activity\"]\n",
        "    except:\n",
        "     for i in range(len(getCom)):\n",
        "        dataAll[item][\"publics\"][getUser_sub[\"groups\"][\"items\"][i]] = \"Сайты\"\n",
        "\n",
        "    dataAll[item][\"info\"][\"count_publics\"] = getUser_sub[\"groups\"][\"count\"]\n",
        "\n",
        "    dataAll[item][\"friends\"] = dataFriends[item]\n",
        "\n",
        "with open('drive/MyDrive/output/data_all.json', 'w') as outfile:\n",
        "    json.dump(dataAll, outfile, ensure_ascii=False)"
      ],
      "metadata": {
        "id": "BXSV-zO6wA8W"
      },
      "execution_count": null,
      "outputs": []
    },
    {
      "cell_type": "code",
      "source": [
        "with open(\"drive/MyDrive/output/data_all.json\", \"r\") as infile:\n",
        "        data = infile.read()\n",
        "\n",
        "dataAll = json.loads(data)"
      ],
      "metadata": {
        "id": "kJgeltLAPaD_"
      },
      "execution_count": null,
      "outputs": []
    },
    {
      "cell_type": "code",
      "source": [
        "for pubItem in dataAll:\n",
        "  for item in dataAll:\n",
        "\n",
        "    dataAll[item][\"param\"] = {}\n",
        "\n",
        "    dataAll[item][\"param\"][\"Th\"] = 100/(0.6*dataAll[item][\"info\"][\"count_friends\"] \\\n",
        "                                                 + 0.4*dataAll[item][\"info\"][\"count_publics\"])\n",
        "    dataAll[item][\"param\"][\"type\"] = pre_qualimetric(dataAll[item], getCityBig, getUni_list, getType)"
      ],
      "metadata": {
        "id": "Sz5TWy9uwnkc"
      },
      "execution_count": null,
      "outputs": []
    },
    {
      "cell_type": "code",
      "source": [
        "with open('drive/MyDrive/output/data_all.json', 'w') as outfile:\n",
        "    json.dump(dataAll, outfile, ensure_ascii=False)"
      ],
      "metadata": {
        "id": "YMZ5mfEePtPu"
      },
      "execution_count": null,
      "outputs": []
    },
    {
      "cell_type": "code",
      "source": [
        "with open(\"drive/MyDrive/output/data_all.json\", \"r\") as infile:\n",
        "        data_json = infile.read()\n",
        "data_json= json.loads(data_json)\n",
        "type(data_json)\n",
        "\n",
        "Th = []\n",
        "mem = []\n",
        "disc = []\n",
        "\n",
        "for item in data_json:\n",
        "  Th.append(data_json[item][\"param\"][\"Th\"])\n",
        "  if data_json[item][\"param\"][\"type\"] == \"аналитик\":\n",
        "    mem.append(3)\n",
        "    disc.append(0.7)\n",
        "  else:\n",
        "    mem.append(1)\n",
        "    disc.append(1)\n",
        "\n",
        "\n",
        "#Итоговое количество аналитиков (3) и эмоциональных агентов (1) среди выбранных\n",
        "#подписчиков исследуемого паблика\n",
        "c = Counter(mem)\n",
        "c"
      ],
      "metadata": {
        "id": "TUu6kb2xEdhO",
        "colab": {
          "base_uri": "https://localhost:8080/"
        },
        "outputId": "14da6745-f44b-4660-eb0b-bae35548a06d"
      },
      "execution_count": null,
      "outputs": [
        {
          "output_type": "execute_result",
          "data": {
            "text/plain": [
              "Counter({1: 126, 3: 2})"
            ]
          },
          "metadata": {},
          "execution_count": 54
        }
      ]
    }
  ]
}